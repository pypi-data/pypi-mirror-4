{
 "metadata": {
  "name": "tutorial"
 },
 "nbformat": 3,
 "nbformat_minor": 0,
 "worksheets": [
  {
   "cells": [
    {
     "cell_type": "code",
     "collapsed": false,
     "input": [
      "%pylab inline\n",
      "from iminuit import Minuit, describe, Struct"
     ],
     "language": "python",
     "metadata": {},
     "outputs": [
      {
       "output_type": "stream",
       "stream": "stdout",
       "text": [
        "\n",
        "Welcome to pylab, a matplotlib-based Python environment [backend: module://IPython.zmq.pylab.backend_inline].\n",
        "For more information, type 'help(pylab)'.\n"
       ]
      }
     ],
     "prompt_number": 1
    },
    {
     "cell_type": "markdown",
     "metadata": {},
     "source": [
      "##Really Quick Start\n",
      "Let go through a quick course about how to minimize things. If you use PyMinuit before you will find that iminuit is very similar to PyMinuit.\n",
      "\n",
      "Our first example is about trying to minimize a simple function:\n",
      "\n",
      "$f(x,y,z) = (x-1)^2 + (y-2)^2 + (z-3)^2 - 1$\n",
      "\n",
      "We know easily that the answer has is\n",
      "$x=1$, $y=2$, $z=3$ and the minimum value should be $-1$"
     ]
    },
    {
     "cell_type": "code",
     "collapsed": false,
     "input": [
      "def f(x,y,z):\n",
      "    return (x-1.)**2 + (y-2.)**2 + (z-3.)**2 -1."
     ],
     "language": "python",
     "metadata": {},
     "outputs": [],
     "prompt_number": 2
    },
    {
     "cell_type": "markdown",
     "metadata": {},
     "source": [
      "iminuit relies on Python introspection. If you wonder what kind of function iminuit sees, you can use"
     ]
    },
    {
     "cell_type": "code",
     "collapsed": false,
     "input": [
      "describe(f) "
     ],
     "language": "python",
     "metadata": {},
     "outputs": [
      {
       "output_type": "pyout",
       "prompt_number": 3,
       "text": [
        "['x', 'y', 'z']"
       ]
      }
     ],
     "prompt_number": 3
    },
    {
     "cell_type": "markdown",
     "metadata": {},
     "source": [
      "###Contruct Minuit Object\n",
      "To minimize we need to construct a Minuit object"
     ]
    },
    {
     "cell_type": "code",
     "collapsed": false,
     "input": [
      "m=Minuit(f, x=2, error_x=0.2, limit_x=(-10.,10.), y=3., fix_y=True, print_level=1)"
     ],
     "language": "python",
     "metadata": {},
     "outputs": [
      {
       "output_type": "stream",
       "stream": "stderr",
       "text": [
        "-c:1: InitialParamWarning: Parameter z does not have initial value. Assume 0.\n",
        "-c:1: InitialParamWarning: Parameter z is floating but does not have initial step size. Assume 1.\n"
       ]
      }
     ],
     "prompt_number": 4
    },
    {
     "cell_type": "markdown",
     "metadata": {},
     "source": [
      "The initial value/error are optional but it's nice to do it\n",
      "and here is how to use it\n",
      "\n",
      "- `x=2` set intial value of `x` to 2\n",
      "- `error_x=0.2` set the initial stepsize\n",
      "- `limit_x = (-1,1)` set the range for `x`\n",
      "- `y=2`, `fix_y=True` fix `y` value to 2\n",
      "\n",
      "We did not put any constain on z. Minuit will howerver warn you about missig initial error/step(using python builtin warning)."
     ]
    },
    {
     "cell_type": "markdown",
     "metadata": {},
     "source": [
      "####Check that initial setting you put in is what you want"
     ]
    },
    {
     "cell_type": "code",
     "collapsed": false,
     "input": [
      "m.print_param()#or call print_initial_param"
     ],
     "language": "python",
     "metadata": {},
     "outputs": [
      {
       "html": [
        "\n",
        "        <table>\n",
        "            <tr>\n",
        "                <td></td>\n",
        "                <td>Name</td>\n",
        "                <td>Value</td>\n",
        "                <td>Parab Error</td>\n",
        "                <td>Minos Error-</td>\n",
        "                <td>Minos Error+</td>\n",
        "                <td>Limit-</td>\n",
        "                <td>Limit+</td>\n",
        "                <td>FIXED</td>\n",
        "            </tr>\n",
        "        \n",
        "            <tr>\n",
        "                <td>1</td>\n",
        "                <td>x</td>\n",
        "                <td>2.000000e+00</td>\n",
        "                <td>2.000000e-01</td>\n",
        "                <td>0.000000e+00</td>\n",
        "                <td>0.000000e+00</td>\n",
        "                <td>-10.0</td>\n",
        "                <td>10.0</td>\n",
        "                <td></td>\n",
        "            </tr>\n",
        "            \n",
        "            <tr>\n",
        "                <td>2</td>\n",
        "                <td>y</td>\n",
        "                <td>3.000000e+00</td>\n",
        "                <td>1.000000e+00</td>\n",
        "                <td>0.000000e+00</td>\n",
        "                <td>0.000000e+00</td>\n",
        "                <td></td>\n",
        "                <td></td>\n",
        "                <td>FIXED</td>\n",
        "            </tr>\n",
        "            \n",
        "            <tr>\n",
        "                <td>3</td>\n",
        "                <td>z</td>\n",
        "                <td>0.000000e+00</td>\n",
        "                <td>1.000000e+00</td>\n",
        "                <td>0.000000e+00</td>\n",
        "                <td>0.000000e+00</td>\n",
        "                <td></td>\n",
        "                <td></td>\n",
        "                <td></td>\n",
        "            </tr>\n",
        "            \n",
        "            </table>\n",
        "        "
       ],
       "output_type": "display_data"
      }
     ],
     "prompt_number": 5
    },
    {
     "cell_type": "markdown",
     "metadata": {},
     "source": [
      "\n",
      "\n",
      "###Run Migrad\n",
      "\n",
      "Migrad performs Variable Metric Minimization. In a nutshell, it combines steepest descends algorithm along with line search strategy. Migrad is very popular in high energy physics field because of its robustness."
     ]
    },
    {
     "cell_type": "code",
     "collapsed": false,
     "input": [
      "#Minimize\n",
      "m.migrad();\n",
      "#notice also in your prompt it prints out progress"
     ],
     "language": "python",
     "metadata": {},
     "outputs": [
      {
       "html": [
        "<hr>"
       ],
       "output_type": "display_data"
      },
      {
       "html": [
        "\n",
        "        <table>\n",
        "            <tr>\n",
        "                <td>FCN = 2.12135513222e-06</td>\n",
        "                <td>NFCN = 27</td>\n",
        "                <td>NCALLS = 27</td>\n",
        "            </tr>\n",
        "            <tr>\n",
        "                <td>EDM = 2.12138479873e-06</td>\n",
        "                <td>GOAL EDM = 1e-05</td>\n",
        "                <td>UP = 1.0</td>\n",
        "            </tr>\n",
        "        </table>\n",
        "        \n",
        "        <table>\n",
        "            <tr>\n",
        "                <td align=\"center\">Valid</td>\n",
        "                <td align=\"center\">Valid Param</td>\n",
        "                <td align=\"center\">Accurate Covar</td>\n",
        "                <td align=\"center\">PosDef</td>\n",
        "                <td align=\"center\">Made PosDef</td>\n",
        "            </tr>\n",
        "            <tr>\n",
        "                <td align=\"center\" style=\"background-color:#92CCA6\">True</td>\n",
        "                <td align=\"center\" style=\"background-color:#92CCA6\">True</td>\n",
        "                <td align=\"center\" style=\"background-color:#92CCA6\">True</td>\n",
        "                <td align=\"center\" style=\"background-color:#92CCA6\">True</td>\n",
        "                <td align=\"center\" style=\"background-color:#92CCA6\">False</td>\n",
        "            </tr>\n",
        "            <tr>\n",
        "                <td align=\"center\">Hesse Fail</td>\n",
        "                <td align=\"center\">HasCov</td>\n",
        "                <td align=\"center\">Above EDM</td>\n",
        "                <td align=\"center\"></td>\n",
        "                <td align=\"center\">Reach calllim</td>\n",
        "            </tr>\n",
        "            <tr>\n",
        "                <td align=\"center\" style=\"background-color:#92CCA6\">False</td>\n",
        "                <td align=\"center\" style=\"background-color:#92CCA6\">True</td>\n",
        "                <td align=\"center\" style=\"background-color:#92CCA6\">False</td>\n",
        "                <td align=\"center\"></td>\n",
        "                <td align=\"center\" style=\"background-color:#92CCA6\">False</td>\n",
        "            </tr>\n",
        "        </table>\n",
        "        "
       ],
       "output_type": "display_data"
      },
      {
       "html": [
        "\n",
        "        <table>\n",
        "            <tr>\n",
        "                <td></td>\n",
        "                <td>Name</td>\n",
        "                <td>Value</td>\n",
        "                <td>Parab Error</td>\n",
        "                <td>Minos Error-</td>\n",
        "                <td>Minos Error+</td>\n",
        "                <td>Limit-</td>\n",
        "                <td>Limit+</td>\n",
        "                <td>FIXED</td>\n",
        "            </tr>\n",
        "        \n",
        "            <tr>\n",
        "                <td>1</td>\n",
        "                <td>x</td>\n",
        "                <td>1.001434e+00</td>\n",
        "                <td>9.983245e-01</td>\n",
        "                <td>0.000000e+00</td>\n",
        "                <td>0.000000e+00</td>\n",
        "                <td>-10.0</td>\n",
        "                <td>10.0</td>\n",
        "                <td></td>\n",
        "            </tr>\n",
        "            \n",
        "            <tr>\n",
        "                <td>2</td>\n",
        "                <td>y</td>\n",
        "                <td>3.000000e+00</td>\n",
        "                <td>1.000000e+00</td>\n",
        "                <td>0.000000e+00</td>\n",
        "                <td>0.000000e+00</td>\n",
        "                <td></td>\n",
        "                <td></td>\n",
        "                <td>FIXED</td>\n",
        "            </tr>\n",
        "            \n",
        "            <tr>\n",
        "                <td>3</td>\n",
        "                <td>z</td>\n",
        "                <td>3.000257e+00</td>\n",
        "                <td>1.000000e+00</td>\n",
        "                <td>0.000000e+00</td>\n",
        "                <td>0.000000e+00</td>\n",
        "                <td></td>\n",
        "                <td></td>\n",
        "                <td></td>\n",
        "            </tr>\n",
        "            \n",
        "            </table>\n",
        "        "
       ],
       "output_type": "display_data"
      },
      {
       "html": [
        "<hr>"
       ],
       "output_type": "display_data"
      },
      {
       "output_type": "pyout",
       "prompt_number": 6,
       "text": [
        "({'hesse_failed': False, 'has_reached_call_limit': False, 'has_accurate_covar': True, 'has_posdef_covar': True, 'up': 1.0, 'edm': 2.121384798725471e-06, 'is_valid': True, 'is_above_max_edm': False, 'has_covariance': True, 'has_made_posdef_covar': False, 'has_valid_parameters': True, 'fval': 2.1213551322230018e-06, 'nfcn': 27},\n",
        " [{'is_const': False, 'name': 'x', 'has_limits': True, 'value': 1.0014335661136275, 'number': 0L, 'has_lower_limit': True, 'upper_limit': 10.0, 'lower_limit': -10.0, 'has_upper_limit': True, 'error': 0.9983245142197408, 'is_fixed': False},\n",
        "  {'is_const': False, 'name': 'y', 'has_limits': False, 'value': 3.0, 'number': 1L, 'has_lower_limit': False, 'upper_limit': 0.0, 'lower_limit': 0.0, 'has_upper_limit': False, 'error': 1.0, 'is_fixed': True},\n",
        "  {'is_const': False, 'name': 'z', 'has_limits': False, 'value': 3.000257377796712, 'number': 2L, 'has_lower_limit': False, 'upper_limit': 0.0, 'lower_limit': 0.0, 'has_upper_limit': False, 'error': 0.9999999998503251, 'is_fixed': False}])"
       ]
      }
     ],
     "prompt_number": 6
    },
    {
     "cell_type": "markdown",
     "metadata": {},
     "source": [
      "migrad summary table give you a nice overview of fit status. \n",
      "\n",
      "- All blocks should be green.\n",
      "- Red means something bad. \n",
      "- Yellow is a caution(fit is good but you ran over call limit)\n",
      "\n",
      "You can use the return value of `migrad()` to check fit status. Most important field is `is_valid`."
     ]
    },
    {
     "cell_type": "markdown",
     "metadata": {},
     "source": [
      "###Accessing values and errors\n",
      "####Accessing Values"
     ]
    },
    {
     "cell_type": "code",
     "collapsed": false,
     "input": [
      "#and this is how you get the the value\n",
      "print 'parameters', m.parameters\n",
      "print 'args', m.args\n",
      "print 'value', m.values"
     ],
     "language": "python",
     "metadata": {},
     "outputs": [
      {
       "output_type": "stream",
       "stream": "stdout",
       "text": [
        "parameters ['x', 'y', 'z']\n",
        "args (1.0014335661136275, 3.0, 3.000257377796712)\n",
        "value {'y': 3.0, 'x': 1.0014335661136275, 'z': 3.000257377796712}\n"
       ]
      }
     ],
     "prompt_number": 7
    },
    {
     "cell_type": "markdown",
     "metadata": {},
     "source": [
      "####Error(parabolic)"
     ]
    },
    {
     "cell_type": "code",
     "collapsed": false,
     "input": [
      "#and the error\n",
      "print 'error', m.errors"
     ],
     "language": "python",
     "metadata": {},
     "outputs": [
      {
       "output_type": "stream",
       "stream": "stdout",
       "text": [
        "error {'y': 1.0, 'x': 0.9983245142197408, 'z': 0.9999999998503251}\n"
       ]
      }
     ],
     "prompt_number": 8
    },
    {
     "cell_type": "markdown",
     "metadata": {},
     "source": [
      "####Function minimum"
     ]
    },
    {
     "cell_type": "code",
     "collapsed": false,
     "input": [
      "#and function value at the minimum\n",
      "print 'fval', m.fval\n",
      "#Tip: you can also obtain value at current state by\n",
      "print 'current state', f(*m.args)"
     ],
     "language": "python",
     "metadata": {},
     "outputs": [
      {
       "output_type": "stream",
       "stream": "stdout",
       "text": [
        "fval 2.12135513222e-06\n",
        "current state 2.12135513222e-06\n"
       ]
      }
     ],
     "prompt_number": 9
    },
    {
     "cell_type": "markdown",
     "metadata": {},
     "source": [
      "####Correlation and Covariance Matrix"
     ]
    },
    {
     "cell_type": "code",
     "collapsed": false,
     "input": [
      "#covariance, correlation matrix\n",
      "#remember y is fixed\n",
      "print 'covariance', m.covariance\n",
      "print 'matrix()', m.matrix() #covariance\n",
      "print 'matrix(correlation=True)', m.matrix(correlation=True) #correlation\n",
      "m.print_matrix() #correlation"
     ],
     "language": "python",
     "metadata": {},
     "outputs": [
      {
       "output_type": "stream",
       "stream": "stdout",
       "text": [
        "covariance {('z', 'z'): 0.9999999997006501, ('x', 'z'): 0.0, ('x', 'x'): 1.0000145024323277, ('z', 'x'): 0.0}\n",
        "matrix() ((1.0000145024323277, 0.0), (0.0, 0.9999999997006501))\n",
        "matrix(correlation=True) ((1.0, 0.0), (0.0, 1.0))\n"
       ]
      },
      {
       "html": [
        "\n",
        "            <table>\n",
        "                <tr>\n",
        "                    <td></td>\n",
        "        \n",
        "            <td>\n",
        "            <span style=\"-webkit-writing-mode:vertical-rl;-moz-writing-mode: vertical-rl;writing-mode: vertical-rl;\">\n",
        "            x\n",
        "            </span>\n",
        "            </td>\n",
        "            \n",
        "            <td>\n",
        "            <span style=\"-webkit-writing-mode:vertical-rl;-moz-writing-mode: vertical-rl;writing-mode: vertical-rl;\">\n",
        "            z\n",
        "            </span>\n",
        "            </td>\n",
        "            \n",
        "                </tr>\n",
        "                \n",
        "            <tr>\n",
        "                <td>x</td>\n",
        "            \n",
        "                <td style=\"background-color:rgb(255,117,117)\">\n",
        "                1.00\n",
        "                </td>\n",
        "                \n",
        "                <td style=\"background-color:rgb(163,254,186)\">\n",
        "                0.00\n",
        "                </td>\n",
        "                \n",
        "            </tr>\n",
        "            \n",
        "            <tr>\n",
        "                <td>z</td>\n",
        "            \n",
        "                <td style=\"background-color:rgb(163,254,186)\">\n",
        "                0.00\n",
        "                </td>\n",
        "                \n",
        "                <td style=\"background-color:rgb(255,117,117)\">\n",
        "                1.00\n",
        "                </td>\n",
        "                \n",
        "            </tr>\n",
        "            </table>"
       ],
       "output_type": "display_data"
      }
     ],
     "prompt_number": 10
    },
    {
     "cell_type": "markdown",
     "metadata": {},
     "source": [
      "####Fit status"
     ]
    },
    {
     "cell_type": "code",
     "collapsed": false,
     "input": [
      "#get mimization status\n",
      "print m.get_fmin()\n",
      "print m.get_fmin().is_valid"
     ],
     "language": "python",
     "metadata": {},
     "outputs": [
      {
       "output_type": "stream",
       "stream": "stdout",
       "text": [
        "{'hesse_failed': False, 'has_reached_call_limit': False, 'has_accurate_covar': True, 'has_posdef_covar': True, 'up': 1.0, 'edm': 2.121384798725471e-06, 'is_valid': True, 'is_above_max_edm': False, 'has_covariance': True, 'has_made_posdef_covar': False, 'has_valid_parameters': True, 'fval': 2.1213551322230018e-06, 'nfcn': 27}\n",
        "True\n"
       ]
      }
     ],
     "prompt_number": 11
    },
    {
     "cell_type": "markdown",
     "metadata": {},
     "source": [
      "###Contour and $\\chi^2$/Likelihood profile\n",
      "$\\chi^2$ and contour can be obtained easily"
     ]
    },
    {
     "cell_type": "code",
     "collapsed": false,
     "input": [
      "x,y = m.profile('x',subtract_min=True);\n",
      "plot(x,y) #if you have matplotlib"
     ],
     "language": "python",
     "metadata": {},
     "outputs": [
      {
       "output_type": "pyout",
       "prompt_number": 12,
       "text": [
        "[<matplotlib.lines.Line2D at 0x103e8a5d0>]"
       ]
      },
      {
       "output_type": "display_data",
       "png": "[encoded data removed]",
       "text": [
        "<matplotlib.figure.Figure at 0x103c71610>"
       ]
      }
     ],
     "prompt_number": 12
    },
    {
     "cell_type": "code",
     "collapsed": false,
     "input": [
      "x,y,z = m.contour('x','z',subtract_min=True)\n",
      "cs = contour(x,y,z)\n",
      "clabel(cs)"
     ],
     "language": "python",
     "metadata": {},
     "outputs": [
      {
       "output_type": "pyout",
       "prompt_number": 13,
       "text": [
        "<a list of 12 text.Text objects>"
       ]
      },
      {
       "output_type": "display_data",
       "png": "[encoded data removed]",
       "text": [
        "<matplotlib.figure.Figure at 0x103e94b10>"
       ]
      }
     ],
     "prompt_number": 13
    },
    {
     "cell_type": "markdown",
     "metadata": {},
     "source": [
      "###Hesse and Minos"
     ]
    },
    {
     "cell_type": "markdown",
     "metadata": {},
     "source": [
      "####Hesse\n",
      "Hesse find the error by finding the inverse of second derivative matrix(hessian). The error assume parabolic shape at the minimum. Hesse error is symmetric by construct. Hesse is always called at the end of migrad to get the error. You normally don't need to call it manually."
     ]
    },
    {
     "cell_type": "code",
     "collapsed": false,
     "input": [
      "m.hesse()"
     ],
     "language": "python",
     "metadata": {},
     "outputs": [
      {
       "html": [
        "\n",
        "        <table>\n",
        "            <tr>\n",
        "                <td></td>\n",
        "                <td>Name</td>\n",
        "                <td>Value</td>\n",
        "                <td>Parab Error</td>\n",
        "                <td>Minos Error-</td>\n",
        "                <td>Minos Error+</td>\n",
        "                <td>Limit-</td>\n",
        "                <td>Limit+</td>\n",
        "                <td>FIXED</td>\n",
        "            </tr>\n",
        "        \n",
        "            <tr>\n",
        "                <td>1</td>\n",
        "                <td>x</td>\n",
        "                <td>1.001434e+00</td>\n",
        "                <td>9.983245e-01</td>\n",
        "                <td>0.000000e+00</td>\n",
        "                <td>0.000000e+00</td>\n",
        "                <td>-10.0</td>\n",
        "                <td>10.0</td>\n",
        "                <td></td>\n",
        "            </tr>\n",
        "            \n",
        "            <tr>\n",
        "                <td>2</td>\n",
        "                <td>y</td>\n",
        "                <td>3.000000e+00</td>\n",
        "                <td>1.000000e+00</td>\n",
        "                <td>0.000000e+00</td>\n",
        "                <td>0.000000e+00</td>\n",
        "                <td></td>\n",
        "                <td></td>\n",
        "                <td>FIXED</td>\n",
        "            </tr>\n",
        "            \n",
        "            <tr>\n",
        "                <td>3</td>\n",
        "                <td>z</td>\n",
        "                <td>3.000257e+00</td>\n",
        "                <td>1.000000e+00</td>\n",
        "                <td>0.000000e+00</td>\n",
        "                <td>0.000000e+00</td>\n",
        "                <td></td>\n",
        "                <td></td>\n",
        "                <td></td>\n",
        "            </tr>\n",
        "            \n",
        "            </table>\n",
        "        "
       ],
       "output_type": "display_data"
      },
      {
       "html": [
        "\n",
        "            <table>\n",
        "                <tr>\n",
        "                    <td></td>\n",
        "        \n",
        "            <td>\n",
        "            <span style=\"-webkit-writing-mode:vertical-rl;-moz-writing-mode: vertical-rl;writing-mode: vertical-rl;\">\n",
        "            x\n",
        "            </span>\n",
        "            </td>\n",
        "            \n",
        "            <td>\n",
        "            <span style=\"-webkit-writing-mode:vertical-rl;-moz-writing-mode: vertical-rl;writing-mode: vertical-rl;\">\n",
        "            z\n",
        "            </span>\n",
        "            </td>\n",
        "            \n",
        "                </tr>\n",
        "                \n",
        "            <tr>\n",
        "                <td>x</td>\n",
        "            \n",
        "                <td style=\"background-color:rgb(255,117,117)\">\n",
        "                1.00\n",
        "                </td>\n",
        "                \n",
        "                <td style=\"background-color:rgb(163,254,186)\">\n",
        "                0.00\n",
        "                </td>\n",
        "                \n",
        "            </tr>\n",
        "            \n",
        "            <tr>\n",
        "                <td>z</td>\n",
        "            \n",
        "                <td style=\"background-color:rgb(163,254,186)\">\n",
        "                0.00\n",
        "                </td>\n",
        "                \n",
        "                <td style=\"background-color:rgb(255,117,117)\">\n",
        "                1.00\n",
        "                </td>\n",
        "                \n",
        "            </tr>\n",
        "            </table>"
       ],
       "output_type": "display_data"
      },
      {
       "output_type": "pyout",
       "prompt_number": 14,
       "text": [
        "[{'is_const': False, 'name': 'x', 'has_limits': True, 'value': 1.0014335661136275, 'number': 0L, 'has_lower_limit': True, 'upper_limit': 10.0, 'lower_limit': -10.0, 'has_upper_limit': True, 'error': 0.9983245155875187, 'is_fixed': False},\n",
        " {'is_const': False, 'name': 'y', 'has_limits': False, 'value': 3.0, 'number': 1L, 'has_lower_limit': False, 'upper_limit': 0.0, 'lower_limit': 0.0, 'has_upper_limit': False, 'error': 1.0, 'is_fixed': True},\n",
        " {'is_const': False, 'name': 'z', 'has_limits': False, 'value': 3.000257377796712, 'number': 2L, 'has_lower_limit': False, 'upper_limit': 0.0, 'lower_limit': 0.0, 'has_upper_limit': False, 'error': 0.9999999999469695, 'is_fixed': False}]"
       ]
      }
     ],
     "prompt_number": 14
    },
    {
     "cell_type": "markdown",
     "metadata": {},
     "source": [
      "####minos\n",
      "\n",
      "minos multidimensionally scan likelihood/$\\chi^2$ until to find the contour where the value of the cost function increase by `UP`(see `set_up`). It takes really long time but give the correct error(unless it fails). "
     ]
    },
    {
     "cell_type": "code",
     "collapsed": false,
     "input": [
      "m.minos() #call m.minos('x') if you need minos error for just 1 variable\n",
      "print m.get_merrors()['x']\n",
      "print m.get_merrors()['x'].lower\n",
      "print m.get_merrors()['x'].upper"
     ],
     "language": "python",
     "metadata": {},
     "outputs": [
      {
       "html": [
        "\n",
        "        <span>Minos status for x: <span style=\"background-color:#92CCA6\">VALID</span></span>\n",
        "        <table>\n",
        "            <tr>\n",
        "                <td>Error</td>\n",
        "                <td>-1.00143910589</td>\n",
        "                <td>0.998567146666</td>\n",
        "            </tr>\n",
        "            <tr>\n",
        "                <td>Valid</td>\n",
        "                <td style=\"background-color:#92CCA6\">True</td>\n",
        "                <td style=\"background-color:#92CCA6\">True</td>\n",
        "            </tr>\n",
        "            <tr>\n",
        "                <td>At Limit</td>\n",
        "                <td style=\"background-color:#92CCA6\">False</td>\n",
        "                <td style=\"background-color:#92CCA6\">False</td>\n",
        "            </tr>\n",
        "            <tr>\n",
        "                <td>Max FCN</td>\n",
        "                <td style=\"background-color:#92CCA6\">False</td>\n",
        "                <td style=\"background-color:#92CCA6\">False</td>\n",
        "            </tr>\n",
        "            <tr>\n",
        "                <td>New Min</td>\n",
        "                <td style=\"background-color:#92CCA6\">False</td>\n",
        "                <td style=\"background-color:#92CCA6\">False</td>\n",
        "            </tr>\n",
        "        </table>\n",
        "        "
       ],
       "output_type": "display_data"
      },
      {
       "html": [
        "\n",
        "        <span>Minos status for z: <span style=\"background-color:#92CCA6\">VALID</span></span>\n",
        "        <table>\n",
        "            <tr>\n",
        "                <td>Error</td>\n",
        "                <td>-1.00025850556</td>\n",
        "                <td>0.99974374829</td>\n",
        "            </tr>\n",
        "            <tr>\n",
        "                <td>Valid</td>\n",
        "                <td style=\"background-color:#92CCA6\">True</td>\n",
        "                <td style=\"background-color:#92CCA6\">True</td>\n",
        "            </tr>\n",
        "            <tr>\n",
        "                <td>At Limit</td>\n",
        "                <td style=\"background-color:#92CCA6\">False</td>\n",
        "                <td style=\"background-color:#92CCA6\">False</td>\n",
        "            </tr>\n",
        "            <tr>\n",
        "                <td>Max FCN</td>\n",
        "                <td style=\"background-color:#92CCA6\">False</td>\n",
        "                <td style=\"background-color:#92CCA6\">False</td>\n",
        "            </tr>\n",
        "            <tr>\n",
        "                <td>New Min</td>\n",
        "                <td style=\"background-color:#92CCA6\">False</td>\n",
        "                <td style=\"background-color:#92CCA6\">False</td>\n",
        "            </tr>\n",
        "        </table>\n",
        "        "
       ],
       "output_type": "display_data"
      },
      {
       "output_type": "stream",
       "stream": "stdout",
       "text": [
        "{'lower_new_min': False, 'upper': 0.9985671466655972, 'lower': -1.001439105885816, 'at_lower_limit': False, 'min': 1.0014335661136275, 'at_lower_max_fcn': False, 'is_valid': True, 'upper_new_min': False, 'at_upper_limit': False, 'lower_valid': True, 'upper_valid': True, 'at_upper_max_fcn': False, 'nfcn': 16L}\n",
        "-1.00143910589\n",
        "0.998567146666\n"
       ]
      }
     ],
     "prompt_number": 15
    },
    {
     "cell_type": "markdown",
     "metadata": {},
     "source": [
      "###Printing Out Nice Tables\n",
      "you can force use print_* to do various html display"
     ]
    },
    {
     "cell_type": "code",
     "collapsed": false,
     "input": [
      "m.print_param()\n",
      "m.print_matrix()"
     ],
     "language": "python",
     "metadata": {},
     "outputs": [
      {
       "html": [
        "\n",
        "        <table>\n",
        "            <tr>\n",
        "                <td></td>\n",
        "                <td>Name</td>\n",
        "                <td>Value</td>\n",
        "                <td>Parab Error</td>\n",
        "                <td>Minos Error-</td>\n",
        "                <td>Minos Error+</td>\n",
        "                <td>Limit-</td>\n",
        "                <td>Limit+</td>\n",
        "                <td>FIXED</td>\n",
        "            </tr>\n",
        "        \n",
        "            <tr>\n",
        "                <td>1</td>\n",
        "                <td>x</td>\n",
        "                <td>1.001434e+00</td>\n",
        "                <td>9.983245e-01</td>\n",
        "                <td>-1.001439e+00</td>\n",
        "                <td>9.985671e-01</td>\n",
        "                <td>-10.0</td>\n",
        "                <td>10.0</td>\n",
        "                <td></td>\n",
        "            </tr>\n",
        "            \n",
        "            <tr>\n",
        "                <td>2</td>\n",
        "                <td>y</td>\n",
        "                <td>3.000000e+00</td>\n",
        "                <td>1.000000e+00</td>\n",
        "                <td>0.000000e+00</td>\n",
        "                <td>0.000000e+00</td>\n",
        "                <td></td>\n",
        "                <td></td>\n",
        "                <td>FIXED</td>\n",
        "            </tr>\n",
        "            \n",
        "            <tr>\n",
        "                <td>3</td>\n",
        "                <td>z</td>\n",
        "                <td>3.000257e+00</td>\n",
        "                <td>1.000000e+00</td>\n",
        "                <td>-1.000259e+00</td>\n",
        "                <td>9.997437e-01</td>\n",
        "                <td></td>\n",
        "                <td></td>\n",
        "                <td></td>\n",
        "            </tr>\n",
        "            \n",
        "            </table>\n",
        "        "
       ],
       "output_type": "display_data"
      },
      {
       "html": [
        "\n",
        "            <table>\n",
        "                <tr>\n",
        "                    <td></td>\n",
        "        \n",
        "            <td>\n",
        "            <span style=\"-webkit-writing-mode:vertical-rl;-moz-writing-mode: vertical-rl;writing-mode: vertical-rl;\">\n",
        "            x\n",
        "            </span>\n",
        "            </td>\n",
        "            \n",
        "            <td>\n",
        "            <span style=\"-webkit-writing-mode:vertical-rl;-moz-writing-mode: vertical-rl;writing-mode: vertical-rl;\">\n",
        "            z\n",
        "            </span>\n",
        "            </td>\n",
        "            \n",
        "                </tr>\n",
        "                \n",
        "            <tr>\n",
        "                <td>x</td>\n",
        "            \n",
        "                <td style=\"background-color:rgb(255,117,117)\">\n",
        "                1.00\n",
        "                </td>\n",
        "                \n",
        "                <td style=\"background-color:rgb(163,254,186)\">\n",
        "                0.00\n",
        "                </td>\n",
        "                \n",
        "            </tr>\n",
        "            \n",
        "            <tr>\n",
        "                <td>z</td>\n",
        "            \n",
        "                <td style=\"background-color:rgb(163,254,186)\">\n",
        "                0.00\n",
        "                </td>\n",
        "                \n",
        "                <td style=\"background-color:rgb(255,117,117)\">\n",
        "                1.00\n",
        "                </td>\n",
        "                \n",
        "            </tr>\n",
        "            </table>"
       ],
       "output_type": "display_data"
      }
     ],
     "prompt_number": 16
    },
    {
     "cell_type": "markdown",
     "metadata": {},
     "source": [
      "##Alternative Ways to define function\n",
      "###Cython\n",
      "If you want speed with minimal code change this is the way to do it. This is a quick way to use cython. For a hard core cython see hard-core-tutorial.ipynb."
     ]
    },
    {
     "cell_type": "code",
     "collapsed": false,
     "input": [
      "#sometimes we want speeeeeeed\n",
      "%load_ext cythonmagic\n",
      "%pylab inline\n",
      "from iminuit import Minuit, describe, Struct"
     ],
     "language": "python",
     "metadata": {},
     "outputs": [
      {
       "output_type": "stream",
       "stream": "stdout",
       "text": [
        "\n",
        "Welcome to pylab, a matplotlib-based Python environment [backend: module://IPython.zmq.pylab.backend_inline].\n",
        "For more information, type 'help(pylab)'.\n"
       ]
      }
     ],
     "prompt_number": 17
    },
    {
     "cell_type": "code",
     "collapsed": false,
     "input": [
      "%%cython\n",
      "cimport cython\n",
      "import numpy as np\n",
      "cimport numpy as np #overwritten those from python with cython\n",
      "\n",
      "#@cython.binding(True) this works too\n",
      "@cython.embedsignature(True)#dump signature in pydoc so describe can extract signature\n",
      "def cython_f(double x,double y,double z):\n",
      "    return (x-1.)**2 + (y-2.)**2 + (z-3.)**2 -1."
     ],
     "language": "python",
     "metadata": {},
     "outputs": [],
     "prompt_number": 18
    },
    {
     "cell_type": "code",
     "collapsed": false,
     "input": [
      "#you can always see what iminuit will see\n",
      "print describe(cython_f)"
     ],
     "language": "python",
     "metadata": {},
     "outputs": [
      {
       "output_type": "stream",
       "stream": "stdout",
       "text": [
        "['x', 'y', 'z']\n"
       ]
      }
     ],
     "prompt_number": 19
    },
    {
     "cell_type": "code",
     "collapsed": false,
     "input": [
      "m = Minuit(cython_f)\n",
      "m.migrad()\n",
      "print m.values"
     ],
     "language": "python",
     "metadata": {},
     "outputs": [
      {
       "output_type": "stream",
       "stream": "stderr",
       "text": [
        "-c:1: InitialParamWarning: Parameter x does not have initial value. Assume 0.\n",
        "-c:1: InitialParamWarning: Parameter x is floating but does not have initial step size. Assume 1.\n",
        "-c:1: InitialParamWarning: Parameter y does not have initial value. Assume 0.\n",
        "-c:1: InitialParamWarning: Parameter y is floating but does not have initial step size. Assume 1.\n",
        "-c:1: InitialParamWarning: Parameter z does not have initial value. Assume 0.\n",
        "-c:1: InitialParamWarning: Parameter z is floating but does not have initial step size. Assume 1.\n"
       ]
      },
      {
       "html": [
        "<hr>"
       ],
       "output_type": "display_data"
      },
      {
       "html": [
        "\n",
        "        <table>\n",
        "            <tr>\n",
        "                <td>FCN = -1.0</td>\n",
        "                <td>NFCN = 36</td>\n",
        "                <td>NCALLS = 36</td>\n",
        "            </tr>\n",
        "            <tr>\n",
        "                <td>EDM = 8.24353485149e-23</td>\n",
        "                <td>GOAL EDM = 1e-05</td>\n",
        "                <td>UP = 1.0</td>\n",
        "            </tr>\n",
        "        </table>\n",
        "        \n",
        "        <table>\n",
        "            <tr>\n",
        "                <td align=\"center\">Valid</td>\n",
        "                <td align=\"center\">Valid Param</td>\n",
        "                <td align=\"center\">Accurate Covar</td>\n",
        "                <td align=\"center\">PosDef</td>\n",
        "                <td align=\"center\">Made PosDef</td>\n",
        "            </tr>\n",
        "            <tr>\n",
        "                <td align=\"center\" style=\"background-color:#92CCA6\">True</td>\n",
        "                <td align=\"center\" style=\"background-color:#92CCA6\">True</td>\n",
        "                <td align=\"center\" style=\"background-color:#92CCA6\">True</td>\n",
        "                <td align=\"center\" style=\"background-color:#92CCA6\">True</td>\n",
        "                <td align=\"center\" style=\"background-color:#92CCA6\">False</td>\n",
        "            </tr>\n",
        "            <tr>\n",
        "                <td align=\"center\">Hesse Fail</td>\n",
        "                <td align=\"center\">HasCov</td>\n",
        "                <td align=\"center\">Above EDM</td>\n",
        "                <td align=\"center\"></td>\n",
        "                <td align=\"center\">Reach calllim</td>\n",
        "            </tr>\n",
        "            <tr>\n",
        "                <td align=\"center\" style=\"background-color:#92CCA6\">False</td>\n",
        "                <td align=\"center\" style=\"background-color:#92CCA6\">True</td>\n",
        "                <td align=\"center\" style=\"background-color:#92CCA6\">False</td>\n",
        "                <td align=\"center\"></td>\n",
        "                <td align=\"center\" style=\"background-color:#92CCA6\">False</td>\n",
        "            </tr>\n",
        "        </table>\n",
        "        "
       ],
       "output_type": "display_data"
      },
      {
       "html": [
        "\n",
        "        <table>\n",
        "            <tr>\n",
        "                <td></td>\n",
        "                <td>Name</td>\n",
        "                <td>Value</td>\n",
        "                <td>Parab Error</td>\n",
        "                <td>Minos Error-</td>\n",
        "                <td>Minos Error+</td>\n",
        "                <td>Limit-</td>\n",
        "                <td>Limit+</td>\n",
        "                <td>FIXED</td>\n",
        "            </tr>\n",
        "        \n",
        "            <tr>\n",
        "                <td>1</td>\n",
        "                <td>x</td>\n",
        "                <td>1.000000e+00</td>\n",
        "                <td>1.000000e+00</td>\n",
        "                <td>0.000000e+00</td>\n",
        "                <td>0.000000e+00</td>\n",
        "                <td></td>\n",
        "                <td></td>\n",
        "                <td></td>\n",
        "            </tr>\n",
        "            \n",
        "            <tr>\n",
        "                <td>2</td>\n",
        "                <td>y</td>\n",
        "                <td>2.000000e+00</td>\n",
        "                <td>1.000000e+00</td>\n",
        "                <td>0.000000e+00</td>\n",
        "                <td>0.000000e+00</td>\n",
        "                <td></td>\n",
        "                <td></td>\n",
        "                <td></td>\n",
        "            </tr>\n",
        "            \n",
        "            <tr>\n",
        "                <td>3</td>\n",
        "                <td>z</td>\n",
        "                <td>3.000000e+00</td>\n",
        "                <td>1.000000e+00</td>\n",
        "                <td>0.000000e+00</td>\n",
        "                <td>0.000000e+00</td>\n",
        "                <td></td>\n",
        "                <td></td>\n",
        "                <td></td>\n",
        "            </tr>\n",
        "            \n",
        "            </table>\n",
        "        "
       ],
       "output_type": "display_data"
      },
      {
       "html": [
        "<hr>"
       ],
       "output_type": "display_data"
      },
      {
       "output_type": "stream",
       "stream": "stdout",
       "text": [
        "{'y': 2.0000000000047877, 'x': 1.000000000002637, 'z': 3.000000000007182}\n"
       ]
      }
     ],
     "prompt_number": 20
    },
    {
     "cell_type": "markdown",
     "metadata": {},
     "source": [
      "###Callable object ie: __call__\n",
      "This is useful if you need to bound your object to some data"
     ]
    },
    {
     "cell_type": "code",
     "collapsed": false,
     "input": [
      "%pylab inline\n",
      "from iminuit import Minuit, describe, Struct"
     ],
     "language": "python",
     "metadata": {},
     "outputs": [
      {
       "output_type": "stream",
       "stream": "stdout",
       "text": [
        "\n",
        "Welcome to pylab, a matplotlib-based Python environment [backend: module://IPython.zmq.pylab.backend_inline].\n",
        "For more information, type 'help(pylab)'.\n"
       ]
      }
     ],
     "prompt_number": 21
    },
    {
     "cell_type": "code",
     "collapsed": false,
     "input": [
      "x = [1,2,3,4,5]\n",
      "y = [2,4,6,8,10]# y=2x\n",
      "class StraightLineChi2:\n",
      "    def __init__(self,x,y):\n",
      "        self.x = x\n",
      "        self.y = y\n",
      "    def __call__(self,m,c): #lets try to find slope and intercept\n",
      "        chi2 = sum((y - m*x+c)**2 for x,y in zip(self.x,self.y))\n",
      "        return chi2"
     ],
     "language": "python",
     "metadata": {},
     "outputs": [],
     "prompt_number": 22
    },
    {
     "cell_type": "code",
     "collapsed": false,
     "input": [
      "chi2 = StraightLineChi2(x,y)\n",
      "describe(chi2)"
     ],
     "language": "python",
     "metadata": {},
     "outputs": [
      {
       "output_type": "pyout",
       "prompt_number": 23,
       "text": [
        "['m', 'c']"
       ]
      }
     ],
     "prompt_number": 23
    },
    {
     "cell_type": "code",
     "collapsed": false,
     "input": [
      "m = Minuit(chi2)\n",
      "m.migrad()\n",
      "print m.values"
     ],
     "language": "python",
     "metadata": {},
     "outputs": [
      {
       "output_type": "stream",
       "stream": "stderr",
       "text": [
        "-c:1: InitialParamWarning: Parameter m does not have initial value. Assume 0.\n",
        "-c:1: InitialParamWarning: Parameter m is floating but does not have initial step size. Assume 1.\n",
        "-c:1: InitialParamWarning: Parameter c does not have initial value. Assume 0.\n",
        "-c:1: InitialParamWarning: Parameter c is floating but does not have initial step size. Assume 1.\n"
       ]
      },
      {
       "html": [
        "<hr>"
       ],
       "output_type": "display_data"
      },
      {
       "html": [
        "\n",
        "        <table>\n",
        "            <tr>\n",
        "                <td>FCN = 6.31477238173e-26</td>\n",
        "                <td>NFCN = 32</td>\n",
        "                <td>NCALLS = 32</td>\n",
        "            </tr>\n",
        "            <tr>\n",
        "                <td>EDM = 6.32720690373e-26</td>\n",
        "                <td>GOAL EDM = 1e-05</td>\n",
        "                <td>UP = 1.0</td>\n",
        "            </tr>\n",
        "        </table>\n",
        "        \n",
        "        <table>\n",
        "            <tr>\n",
        "                <td align=\"center\">Valid</td>\n",
        "                <td align=\"center\">Valid Param</td>\n",
        "                <td align=\"center\">Accurate Covar</td>\n",
        "                <td align=\"center\">PosDef</td>\n",
        "                <td align=\"center\">Made PosDef</td>\n",
        "            </tr>\n",
        "            <tr>\n",
        "                <td align=\"center\" style=\"background-color:#92CCA6\">True</td>\n",
        "                <td align=\"center\" style=\"background-color:#92CCA6\">True</td>\n",
        "                <td align=\"center\" style=\"background-color:#92CCA6\">True</td>\n",
        "                <td align=\"center\" style=\"background-color:#92CCA6\">True</td>\n",
        "                <td align=\"center\" style=\"background-color:#92CCA6\">False</td>\n",
        "            </tr>\n",
        "            <tr>\n",
        "                <td align=\"center\">Hesse Fail</td>\n",
        "                <td align=\"center\">HasCov</td>\n",
        "                <td align=\"center\">Above EDM</td>\n",
        "                <td align=\"center\"></td>\n",
        "                <td align=\"center\">Reach calllim</td>\n",
        "            </tr>\n",
        "            <tr>\n",
        "                <td align=\"center\" style=\"background-color:#92CCA6\">False</td>\n",
        "                <td align=\"center\" style=\"background-color:#92CCA6\">True</td>\n",
        "                <td align=\"center\" style=\"background-color:#92CCA6\">False</td>\n",
        "                <td align=\"center\"></td>\n",
        "                <td align=\"center\" style=\"background-color:#92CCA6\">False</td>\n",
        "            </tr>\n",
        "        </table>\n",
        "        "
       ],
       "output_type": "display_data"
      },
      {
       "html": [
        "\n",
        "        <table>\n",
        "            <tr>\n",
        "                <td></td>\n",
        "                <td>Name</td>\n",
        "                <td>Value</td>\n",
        "                <td>Parab Error</td>\n",
        "                <td>Minos Error-</td>\n",
        "                <td>Minos Error+</td>\n",
        "                <td>Limit-</td>\n",
        "                <td>Limit+</td>\n",
        "                <td>FIXED</td>\n",
        "            </tr>\n",
        "        \n",
        "            <tr>\n",
        "                <td>1</td>\n",
        "                <td>m</td>\n",
        "                <td>2.000000e+00</td>\n",
        "                <td>3.162278e-01</td>\n",
        "                <td>0.000000e+00</td>\n",
        "                <td>0.000000e+00</td>\n",
        "                <td></td>\n",
        "                <td></td>\n",
        "                <td></td>\n",
        "            </tr>\n",
        "            \n",
        "            <tr>\n",
        "                <td>2</td>\n",
        "                <td>c</td>\n",
        "                <td>-4.884981e-14</td>\n",
        "                <td>1.048809e+00</td>\n",
        "                <td>0.000000e+00</td>\n",
        "                <td>0.000000e+00</td>\n",
        "                <td></td>\n",
        "                <td></td>\n",
        "                <td></td>\n",
        "            </tr>\n",
        "            \n",
        "            </table>\n",
        "        "
       ],
       "output_type": "display_data"
      },
      {
       "html": [
        "<hr>"
       ],
       "output_type": "display_data"
      },
      {
       "output_type": "stream",
       "stream": "stdout",
       "text": [
        "{'c': -4.884981308350689e-14, 'm': 2.00000000000002}\n"
       ]
      }
     ],
     "prompt_number": 24
    },
    {
     "cell_type": "markdown",
     "metadata": {},
     "source": [
      "###Faking a function signature\n",
      "This is missing from PyMinuit. iminuit allows you to take funciton sinature by using `func_code.co_varnames` and `func_code.co_argcount`. This is very useful for making a higher order function that takes PDF and data in to calculate appropriate cost function."
     ]
    },
    {
     "cell_type": "code",
     "collapsed": false,
     "input": [
      "%pylab inline\n",
      "from iminuit import Minuit, describe, Struct"
     ],
     "language": "python",
     "metadata": {},
     "outputs": [
      {
       "output_type": "stream",
       "stream": "stdout",
       "text": [
        "\n",
        "Welcome to pylab, a matplotlib-based Python environment [backend: module://IPython.zmq.pylab.backend_inline].\n",
        "For more information, type 'help(pylab)'.\n"
       ]
      }
     ],
     "prompt_number": 25
    },
    {
     "cell_type": "code",
     "collapsed": false,
     "input": [
      "#this is very useful if you want to build a generic cost functor\n",
      "#this is actually how dist_fit is implemented\n",
      "from iminuit.util import make_func_code\n",
      "x = [1,2,3,4,5]\n",
      "y = [2,4,6,8,10]# y=2x\n",
      "class Chi2Functor:\n",
      "    def __init__(self,f,x,y):\n",
      "        self.f = f\n",
      "        self.x = x\n",
      "        self.y = y\n",
      "        f_sig = describe(f)\n",
      "        #this is how you fake function \n",
      "        #signature dynamically\n",
      "        self.func_code = make_func_code(f_sig[1:])#docking off independent variable\n",
      "        self.func_defaults = None #this keeps np.vectorize happy\n",
      "    def __call__(self,*arg):\n",
      "        #notice that it accept variable length\n",
      "        #positional arguments\n",
      "        chi2 = sum((y-self.f(x,*arg))**2 for x,y in zip(self.x,self.y))\n",
      "        return chi2"
     ],
     "language": "python",
     "metadata": {},
     "outputs": [],
     "prompt_number": 26
    },
    {
     "cell_type": "code",
     "collapsed": false,
     "input": [
      "def linear(x,m,c):\n",
      "    return m*x+c\n",
      "\n",
      "def parabola(x,a,b,c):\n",
      "    return a*x**2 + b*x + c "
     ],
     "language": "python",
     "metadata": {},
     "outputs": [],
     "prompt_number": 27
    },
    {
     "cell_type": "code",
     "collapsed": false,
     "input": [
      "linear_chi2 = Chi2Functor(linear,x,y)\n",
      "describe(linear_chi2)"
     ],
     "language": "python",
     "metadata": {},
     "outputs": [
      {
       "output_type": "pyout",
       "prompt_number": 28,
       "text": [
        "['m', 'c']"
       ]
      }
     ],
     "prompt_number": 28
    },
    {
     "cell_type": "code",
     "collapsed": false,
     "input": [
      "m = Minuit(linear_chi2)\n",
      "m.migrad();\n",
      "print m.values"
     ],
     "language": "python",
     "metadata": {},
     "outputs": [
      {
       "output_type": "stream",
       "stream": "stderr",
       "text": [
        "-c:1: InitialParamWarning: Parameter m does not have initial value. Assume 0.\n",
        "-c:1: InitialParamWarning: Parameter m is floating but does not have initial step size. Assume 1.\n",
        "-c:1: InitialParamWarning: Parameter c does not have initial value. Assume 0.\n",
        "-c:1: InitialParamWarning: Parameter c is floating but does not have initial step size. Assume 1.\n"
       ]
      },
      {
       "html": [
        "<hr>"
       ],
       "output_type": "display_data"
      },
      {
       "html": [
        "\n",
        "        <table>\n",
        "            <tr>\n",
        "                <td>FCN = 6.48916980635e-26</td>\n",
        "                <td>NFCN = 32</td>\n",
        "                <td>NCALLS = 32</td>\n",
        "            </tr>\n",
        "            <tr>\n",
        "                <td>EDM = 6.48992044656e-26</td>\n",
        "                <td>GOAL EDM = 1e-05</td>\n",
        "                <td>UP = 1.0</td>\n",
        "            </tr>\n",
        "        </table>\n",
        "        \n",
        "        <table>\n",
        "            <tr>\n",
        "                <td align=\"center\">Valid</td>\n",
        "                <td align=\"center\">Valid Param</td>\n",
        "                <td align=\"center\">Accurate Covar</td>\n",
        "                <td align=\"center\">PosDef</td>\n",
        "                <td align=\"center\">Made PosDef</td>\n",
        "            </tr>\n",
        "            <tr>\n",
        "                <td align=\"center\" style=\"background-color:#92CCA6\">True</td>\n",
        "                <td align=\"center\" style=\"background-color:#92CCA6\">True</td>\n",
        "                <td align=\"center\" style=\"background-color:#92CCA6\">True</td>\n",
        "                <td align=\"center\" style=\"background-color:#92CCA6\">True</td>\n",
        "                <td align=\"center\" style=\"background-color:#92CCA6\">False</td>\n",
        "            </tr>\n",
        "            <tr>\n",
        "                <td align=\"center\">Hesse Fail</td>\n",
        "                <td align=\"center\">HasCov</td>\n",
        "                <td align=\"center\">Above EDM</td>\n",
        "                <td align=\"center\"></td>\n",
        "                <td align=\"center\">Reach calllim</td>\n",
        "            </tr>\n",
        "            <tr>\n",
        "                <td align=\"center\" style=\"background-color:#92CCA6\">False</td>\n",
        "                <td align=\"center\" style=\"background-color:#92CCA6\">True</td>\n",
        "                <td align=\"center\" style=\"background-color:#92CCA6\">False</td>\n",
        "                <td align=\"center\"></td>\n",
        "                <td align=\"center\" style=\"background-color:#92CCA6\">False</td>\n",
        "            </tr>\n",
        "        </table>\n",
        "        "
       ],
       "output_type": "display_data"
      },
      {
       "html": [
        "\n",
        "        <table>\n",
        "            <tr>\n",
        "                <td></td>\n",
        "                <td>Name</td>\n",
        "                <td>Value</td>\n",
        "                <td>Parab Error</td>\n",
        "                <td>Minos Error-</td>\n",
        "                <td>Minos Error+</td>\n",
        "                <td>Limit-</td>\n",
        "                <td>Limit+</td>\n",
        "                <td>FIXED</td>\n",
        "            </tr>\n",
        "        \n",
        "            <tr>\n",
        "                <td>1</td>\n",
        "                <td>m</td>\n",
        "                <td>2.000000e+00</td>\n",
        "                <td>3.162278e-01</td>\n",
        "                <td>0.000000e+00</td>\n",
        "                <td>0.000000e+00</td>\n",
        "                <td></td>\n",
        "                <td></td>\n",
        "                <td></td>\n",
        "            </tr>\n",
        "            \n",
        "            <tr>\n",
        "                <td>2</td>\n",
        "                <td>c</td>\n",
        "                <td>3.375078e-14</td>\n",
        "                <td>1.048809e+00</td>\n",
        "                <td>0.000000e+00</td>\n",
        "                <td>0.000000e+00</td>\n",
        "                <td></td>\n",
        "                <td></td>\n",
        "                <td></td>\n",
        "            </tr>\n",
        "            \n",
        "            </table>\n",
        "        "
       ],
       "output_type": "display_data"
      },
      {
       "html": [
        "<hr>"
       ],
       "output_type": "display_data"
      },
      {
       "output_type": "stream",
       "stream": "stdout",
       "text": [
        "{'c': 3.375077994860476e-14, 'm': 2.000000000000025}\n"
       ]
      }
     ],
     "prompt_number": 29
    },
    {
     "cell_type": "code",
     "collapsed": false,
     "input": [
      "#now here is the beauty\n",
      "#you can use the same Chi2Functor now for parabola\n",
      "parab_chi2 = Chi2Functor(parabola,x,y)\n",
      "describe(parab_chi2)"
     ],
     "language": "python",
     "metadata": {},
     "outputs": [
      {
       "output_type": "pyout",
       "prompt_number": 30,
       "text": [
        "['a', 'b', 'c']"
       ]
      }
     ],
     "prompt_number": 30
    },
    {
     "cell_type": "code",
     "collapsed": false,
     "input": [
      "m = Minuit(parab_chi2,x,y)\n",
      "m.migrad()\n",
      "print m.values"
     ],
     "language": "python",
     "metadata": {},
     "outputs": [
      {
       "output_type": "stream",
       "stream": "stderr",
       "text": [
        "-c:1: InitialParamWarning: Parameter a does not have initial value. Assume 0.\n",
        "-c:1: InitialParamWarning: Parameter a is floating but does not have initial step size. Assume 1.\n",
        "-c:1: InitialParamWarning: Parameter b does not have initial value. Assume 0.\n",
        "-c:1: InitialParamWarning: Parameter b is floating but does not have initial step size. Assume 1.\n",
        "-c:1: InitialParamWarning: Parameter c does not have initial value. Assume 0.\n",
        "-c:1: InitialParamWarning: Parameter c is floating but does not have initial step size. Assume 1.\n"
       ]
      },
      {
       "html": [
        "<hr>"
       ],
       "output_type": "display_data"
      },
      {
       "html": [
        "\n",
        "        <table>\n",
        "            <tr>\n",
        "                <td>FCN = 1.50034031957e-18</td>\n",
        "                <td>NFCN = 59</td>\n",
        "                <td>NCALLS = 59</td>\n",
        "            </tr>\n",
        "            <tr>\n",
        "                <td>EDM = 1.50033920511e-18</td>\n",
        "                <td>GOAL EDM = 1e-05</td>\n",
        "                <td>UP = 1.0</td>\n",
        "            </tr>\n",
        "        </table>\n",
        "        \n",
        "        <table>\n",
        "            <tr>\n",
        "                <td align=\"center\">Valid</td>\n",
        "                <td align=\"center\">Valid Param</td>\n",
        "                <td align=\"center\">Accurate Covar</td>\n",
        "                <td align=\"center\">PosDef</td>\n",
        "                <td align=\"center\">Made PosDef</td>\n",
        "            </tr>\n",
        "            <tr>\n",
        "                <td align=\"center\" style=\"background-color:#92CCA6\">True</td>\n",
        "                <td align=\"center\" style=\"background-color:#92CCA6\">True</td>\n",
        "                <td align=\"center\" style=\"background-color:#92CCA6\">True</td>\n",
        "                <td align=\"center\" style=\"background-color:#92CCA6\">True</td>\n",
        "                <td align=\"center\" style=\"background-color:#92CCA6\">False</td>\n",
        "            </tr>\n",
        "            <tr>\n",
        "                <td align=\"center\">Hesse Fail</td>\n",
        "                <td align=\"center\">HasCov</td>\n",
        "                <td align=\"center\">Above EDM</td>\n",
        "                <td align=\"center\"></td>\n",
        "                <td align=\"center\">Reach calllim</td>\n",
        "            </tr>\n",
        "            <tr>\n",
        "                <td align=\"center\" style=\"background-color:#92CCA6\">False</td>\n",
        "                <td align=\"center\" style=\"background-color:#92CCA6\">True</td>\n",
        "                <td align=\"center\" style=\"background-color:#92CCA6\">False</td>\n",
        "                <td align=\"center\"></td>\n",
        "                <td align=\"center\" style=\"background-color:#92CCA6\">False</td>\n",
        "            </tr>\n",
        "        </table>\n",
        "        "
       ],
       "output_type": "display_data"
      },
      {
       "html": [
        "\n",
        "        <table>\n",
        "            <tr>\n",
        "                <td></td>\n",
        "                <td>Name</td>\n",
        "                <td>Value</td>\n",
        "                <td>Parab Error</td>\n",
        "                <td>Minos Error-</td>\n",
        "                <td>Minos Error+</td>\n",
        "                <td>Limit-</td>\n",
        "                <td>Limit+</td>\n",
        "                <td>FIXED</td>\n",
        "            </tr>\n",
        "        \n",
        "            <tr>\n",
        "                <td>1</td>\n",
        "                <td>a</td>\n",
        "                <td>-4.761125e-11</td>\n",
        "                <td>2.672612e-01</td>\n",
        "                <td>0.000000e+00</td>\n",
        "                <td>0.000000e+00</td>\n",
        "                <td></td>\n",
        "                <td></td>\n",
        "                <td></td>\n",
        "            </tr>\n",
        "            \n",
        "            <tr>\n",
        "                <td>2</td>\n",
        "                <td>b</td>\n",
        "                <td>2.000000e+00</td>\n",
        "                <td>1.634451e+00</td>\n",
        "                <td>0.000000e+00</td>\n",
        "                <td>0.000000e+00</td>\n",
        "                <td></td>\n",
        "                <td></td>\n",
        "                <td></td>\n",
        "            </tr>\n",
        "            \n",
        "            <tr>\n",
        "                <td>3</td>\n",
        "                <td>c</td>\n",
        "                <td>8.948271e-10</td>\n",
        "                <td>2.144761e+00</td>\n",
        "                <td>0.000000e+00</td>\n",
        "                <td>0.000000e+00</td>\n",
        "                <td></td>\n",
        "                <td></td>\n",
        "                <td></td>\n",
        "            </tr>\n",
        "            \n",
        "            </table>\n",
        "        "
       ],
       "output_type": "display_data"
      },
      {
       "html": [
        "<hr>"
       ],
       "output_type": "display_data"
      },
      {
       "output_type": "stream",
       "stream": "stdout",
       "text": [
        "{'a': -4.761124827723506e-11, 'c': 8.948271013053954e-10, 'b': 1.9999999999086318}\n"
       ]
      }
     ],
     "prompt_number": 31
    },
    {
     "cell_type": "markdown",
     "metadata": {},
     "source": [
      "####Last Resort: Forcing function signature\n",
      "\n",
      "built-in function normally do not have signature. Function from swig belongs in this categories. Python intro spection will fails and we have to force function signature."
     ]
    },
    {
     "cell_type": "code",
     "collapsed": false,
     "input": [
      "%pylab inline\n",
      "from iminuit import Minuit, describe, Struct"
     ],
     "language": "python",
     "metadata": {},
     "outputs": [
      {
       "output_type": "stream",
       "stream": "stdout",
       "text": [
        "\n",
        "Welcome to pylab, a matplotlib-based Python environment [backend: module://IPython.zmq.pylab.backend_inline].\n",
        "For more information, type 'help(pylab)'.\n"
       ]
      }
     ],
     "prompt_number": 32
    },
    {
     "cell_type": "code",
     "collapsed": false,
     "input": [
      "%%cython\n",
      "#sometimes you get a function with absolutely no signature\n",
      "def nosig_f(x,y):\n",
      "    return x**2+(y-4)**2"
     ],
     "language": "python",
     "metadata": {},
     "outputs": [],
     "prompt_number": 33
    },
    {
     "cell_type": "code",
     "collapsed": false,
     "input": [
      "#something from swig will give you a function with no\n",
      "#signature information\n",
      "try:\n",
      "    describe(nosig_f)#it raise error\n",
      "except Exception as e:\n",
      "    print e"
     ],
     "language": "python",
     "metadata": {},
     "outputs": [
      {
       "output_type": "stream",
       "stream": "stdout",
       "text": [
        "Unable to obtain function signature\n"
       ]
      }
     ],
     "prompt_number": 34
    },
    {
     "cell_type": "code",
     "collapsed": false,
     "input": [
      "#Use forced_parameters\n",
      "m = Minuit(nosig_f, forced_parameters=('x','y'))"
     ],
     "language": "python",
     "metadata": {},
     "outputs": [
      {
       "output_type": "stream",
       "stream": "stderr",
       "text": [
        "-c:2: InitialParamWarning: Parameter x does not have initial value. Assume 0.\n",
        "-c:2: InitialParamWarning: Parameter x is floating but does not have initial step size. Assume 1.\n",
        "-c:2: InitialParamWarning: Parameter y does not have initial value. Assume 0.\n",
        "-c:2: InitialParamWarning: Parameter y is floating but does not have initial step size. Assume 1.\n"
       ]
      }
     ],
     "prompt_number": 35
    },
    {
     "cell_type": "code",
     "collapsed": false,
     "input": [
      "m.migrad()\n",
      "print m.values"
     ],
     "language": "python",
     "metadata": {},
     "outputs": [
      {
       "html": [
        "<hr>"
       ],
       "output_type": "display_data"
      },
      {
       "html": [
        "\n",
        "        <table>\n",
        "            <tr>\n",
        "                <td>FCN = 9.31236296332e-23</td>\n",
        "                <td>NFCN = 24</td>\n",
        "                <td>NCALLS = 24</td>\n",
        "            </tr>\n",
        "            <tr>\n",
        "                <td>EDM = 9.31236296802e-23</td>\n",
        "                <td>GOAL EDM = 1e-05</td>\n",
        "                <td>UP = 1.0</td>\n",
        "            </tr>\n",
        "        </table>\n",
        "        \n",
        "        <table>\n",
        "            <tr>\n",
        "                <td align=\"center\">Valid</td>\n",
        "                <td align=\"center\">Valid Param</td>\n",
        "                <td align=\"center\">Accurate Covar</td>\n",
        "                <td align=\"center\">PosDef</td>\n",
        "                <td align=\"center\">Made PosDef</td>\n",
        "            </tr>\n",
        "            <tr>\n",
        "                <td align=\"center\" style=\"background-color:#92CCA6\">True</td>\n",
        "                <td align=\"center\" style=\"background-color:#92CCA6\">True</td>\n",
        "                <td align=\"center\" style=\"background-color:#92CCA6\">True</td>\n",
        "                <td align=\"center\" style=\"background-color:#92CCA6\">True</td>\n",
        "                <td align=\"center\" style=\"background-color:#92CCA6\">False</td>\n",
        "            </tr>\n",
        "            <tr>\n",
        "                <td align=\"center\">Hesse Fail</td>\n",
        "                <td align=\"center\">HasCov</td>\n",
        "                <td align=\"center\">Above EDM</td>\n",
        "                <td align=\"center\"></td>\n",
        "                <td align=\"center\">Reach calllim</td>\n",
        "            </tr>\n",
        "            <tr>\n",
        "                <td align=\"center\" style=\"background-color:#92CCA6\">False</td>\n",
        "                <td align=\"center\" style=\"background-color:#92CCA6\">True</td>\n",
        "                <td align=\"center\" style=\"background-color:#92CCA6\">False</td>\n",
        "                <td align=\"center\"></td>\n",
        "                <td align=\"center\" style=\"background-color:#92CCA6\">False</td>\n",
        "            </tr>\n",
        "        </table>\n",
        "        "
       ],
       "output_type": "display_data"
      },
      {
       "html": [
        "\n",
        "        <table>\n",
        "            <tr>\n",
        "                <td></td>\n",
        "                <td>Name</td>\n",
        "                <td>Value</td>\n",
        "                <td>Parab Error</td>\n",
        "                <td>Minos Error-</td>\n",
        "                <td>Minos Error+</td>\n",
        "                <td>Limit-</td>\n",
        "                <td>Limit+</td>\n",
        "                <td>FIXED</td>\n",
        "            </tr>\n",
        "        \n",
        "            <tr>\n",
        "                <td>1</td>\n",
        "                <td>x</td>\n",
        "                <td>0.000000e+00</td>\n",
        "                <td>1.000000e+00</td>\n",
        "                <td>0.000000e+00</td>\n",
        "                <td>0.000000e+00</td>\n",
        "                <td></td>\n",
        "                <td></td>\n",
        "                <td></td>\n",
        "            </tr>\n",
        "            \n",
        "            <tr>\n",
        "                <td>2</td>\n",
        "                <td>y</td>\n",
        "                <td>4.000000e+00</td>\n",
        "                <td>1.000000e+00</td>\n",
        "                <td>0.000000e+00</td>\n",
        "                <td>0.000000e+00</td>\n",
        "                <td></td>\n",
        "                <td></td>\n",
        "                <td></td>\n",
        "            </tr>\n",
        "            \n",
        "            </table>\n",
        "        "
       ],
       "output_type": "display_data"
      },
      {
       "html": [
        "<hr>"
       ],
       "output_type": "display_data"
      },
      {
       "output_type": "stream",
       "stream": "stdout",
       "text": [
        "{'y': 4.00000000000965, 'x': 0.0}\n"
       ]
      }
     ],
     "prompt_number": 36
    },
    {
     "cell_type": "code",
     "collapsed": false,
     "input": [
      "print f"
     ],
     "language": "python",
     "metadata": {},
     "outputs": [
      {
       "output_type": "stream",
       "stream": "stdout",
       "text": [
        "<built-in method f of mtrand.RandomState object at 0x1002ab4e0>\n"
       ]
      }
     ],
     "prompt_number": 38
    },
    {
     "cell_type": "markdown",
     "metadata": {},
     "source": [
      "###Frontend\n",
      "Frontend affects how the output from migrad/minos etc are displayed. iminuit is shipped with two frontends. ConsoleFrontend print in text format and HtmlFrontend print html object to Ipython notebook. When you construct Minuit object the front end is selected automatically. If you are in IPython it will use Html frontend; otherwise, it will use console fronend. You can force Minuit to use frontend of your choice too."
     ]
    },
    {
     "cell_type": "code",
     "collapsed": false,
     "input": [
      "%pylab inline\n",
      "from iminuit import Minuit, describe, Struct"
     ],
     "language": "python",
     "metadata": {},
     "outputs": [
      {
       "output_type": "stream",
       "stream": "stdout",
       "text": [
        "\n",
        "Welcome to pylab, a matplotlib-based Python environment [backend: module://IPython.zmq.pylab.backend_inline].\n",
        "For more information, type 'help(pylab)'.\n"
       ]
      }
     ],
     "prompt_number": 4
    },
    {
     "cell_type": "code",
     "collapsed": false,
     "input": [
      "#this is just showing off console frontend (you can force it)\n",
      "from iminuit.ConsoleFrontend import ConsoleFrontend\n",
      "def f(x,y,z):\n",
      "    return (x-1.)**2 + (y-2.)**2 + (z-3.)**2 -1.\n",
      "m = Minuit(f, frontend=ConsoleFrontend())"
     ],
     "language": "python",
     "metadata": {},
     "outputs": [
      {
       "output_type": "stream",
       "stream": "stderr",
       "text": [
        "-c:5: InitialParamWarning: Parameter x does not have initial value. Assume 0.\n",
        "-c:5: InitialParamWarning: Parameter x is floating but does not have initial step size. Assume 1.\n",
        "-c:5: InitialParamWarning: Parameter y does not have initial value. Assume 0.\n",
        "-c:5: InitialParamWarning: Parameter y is floating but does not have initial step size. Assume 1.\n",
        "-c:5: InitialParamWarning: Parameter z does not have initial value. Assume 0.\n",
        "-c:5: InitialParamWarning: Parameter z is floating but does not have initial step size. Assume 1.\n"
       ]
      }
     ],
     "prompt_number": 5
    },
    {
     "cell_type": "code",
     "collapsed": false,
     "input": [
      "m.migrad();"
     ],
     "language": "python",
     "metadata": {},
     "outputs": [
      {
       "output_type": "stream",
       "stream": "stdout",
       "text": [
        "**************************************************\n",
        "*                     MIGRAD                     *\n",
        "**************************************************\n",
        "\n",
        "**********************************************************************\n",
        "---------------------------------------------------------------------------------------\n",
        "fval = -1.0 | nfcn = 13 | ncalls = 50\n",
        "edm = 8.142061433983604e-23 (Goal: 1e-05) | up = 1.0\n",
        "---------------------------------------------------------------------------------------\n",
        "|          Valid |    Valid Param | Accurate Covar |         Posdef |    Made Posdef |\n",
        "---------------------------------------------------------------------------------------\n",
        "|           True |           True |           True |           True |          False |\n",
        "---------------------------------------------------------------------------------------\n",
        "|     Hesse Fail |        Has Cov |      Above EDM |                |  Reach calllim |\n",
        "---------------------------------------------------------------------------------------\n",
        "|          False |           True |          False |             '' |          False |\n",
        "---------------------------------------------------------------------------------------\n",
        "\n",
        "----------------------------------------------------------------------------------------------\n",
        "|      | Name  |  Value   | Para Err |   Err-   |   Err+   |  Limit-  |  Limit+  |          |\n",
        "----------------------------------------------------------------------------------------------\n",
        "|    0 |     x =  1       |  1       |          |          |          |          |          |\n",
        "|    1 |     y =  2       |  1       |          |          |          |          |          |\n",
        "|    2 |     z =  3       |  1       |          |          |          |          |          |\n",
        "----------------------------------------------------------------------------------------------\n",
        "\n",
        "**********************************************************************\n"
       ]
      }
     ],
     "prompt_number": 8
    },
    {
     "cell_type": "code",
     "collapsed": false,
     "input": [],
     "language": "python",
     "metadata": {},
     "outputs": []
    }
   ],
   "metadata": {}
  }
 ]
}